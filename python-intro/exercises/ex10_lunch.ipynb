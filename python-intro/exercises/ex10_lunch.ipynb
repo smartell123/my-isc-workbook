{
 "cells": [
  {
   "cell_type": "markdown",
   "id": "9823f762-7031-4286-b7e2-c63ef6e4b202",
   "metadata": {
    "editable": true,
    "slideshow": {
     "slide_type": ""
    },
    "tags": []
   },
   "source": [
    "# Exercise 10: Lunch"
   ]
  },
  {
   "cell_type": "markdown",
   "id": "75380e2d-d802-4db1-b197-2f39eb17441d",
   "metadata": {},
   "source": [
    "Enjoy your lunch!"
   ]
  },
  {
   "cell_type": "markdown",
   "id": "5bbfe06d",
   "metadata": {},
   "source": [
    "![Lunch](../images/lunch.png)"
   ]
  },
  {
   "cell_type": "markdown",
   "id": "50faf651-6ddd-472c-b43c-7d10472b67e7",
   "metadata": {},
   "source": [
    "If you're stuck on anything or have any questions, please ask for help!"
   ]
  }
 ],
 "metadata": {
  "kernelspec": {
   "display_name": "Python 3 + Jaspy",
   "language": "python",
   "name": "jaspy"
  },
  "language_info": {
   "codemirror_mode": {
    "name": "ipython",
    "version": 3
   },
   "file_extension": ".py",
   "mimetype": "text/x-python",
   "name": "python",
   "nbconvert_exporter": "python",
   "pygments_lexer": "ipython3",
   "version": "3.10.5"
  }
 },
 "nbformat": 4,
 "nbformat_minor": 5
}
