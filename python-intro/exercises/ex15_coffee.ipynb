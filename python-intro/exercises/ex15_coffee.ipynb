{
 "cells": [
  {
   "cell_type": "markdown",
   "id": "12bace98-64be-4847-a2e2-b5bc61f2ddaf",
   "metadata": {},
   "source": [
    "# Exercise 15: Afternoon Coffee"
   ]
  },
  {
   "cell_type": "markdown",
   "id": "f3ec4bce-f3ee-4217-975b-f7a79ea86c14",
   "metadata": {},
   "source": [
    "If you didn't quite finish the other exercises you're welcome to catch up now."
   ]
  },
  {
   "cell_type": "markdown",
   "id": "a65fcc14",
   "metadata": {},
   "source": [
    "![Coffee](../images/coffee.png)"
   ]
  },
  {
   "cell_type": "markdown",
   "id": "2e6db9ae",
   "metadata": {},
   "source": [
    "If you have any questions or are stuck on anything, please ask!"
   ]
  }
 ],
 "metadata": {
  "kernelspec": {
   "display_name": "Python 3 + Jaspy",
   "language": "python",
   "name": "jaspy"
  },
  "language_info": {
   "codemirror_mode": {
    "name": "ipython",
    "version": 3
   },
   "file_extension": ".py",
   "mimetype": "text/x-python",
   "name": "python",
   "nbconvert_exporter": "python",
   "pygments_lexer": "ipython3",
   "version": "3.10.5"
  }
 },
 "nbformat": 4,
 "nbformat_minor": 5
}
