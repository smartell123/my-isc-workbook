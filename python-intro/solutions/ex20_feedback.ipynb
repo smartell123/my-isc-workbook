{
 "cells": [
  {
   "cell_type": "markdown",
   "id": "e28978d6-c4de-4532-b36e-2136c3b8cd13",
   "metadata": {},
   "source": [
    "# Exercise 20: Feedback"
   ]
  },
  {
   "cell_type": "markdown",
   "id": "5ab0f731-a958-4307-8119-ab5b1cc20f2e",
   "metadata": {},
   "source": [
    "If you've got any feedback, we'd be happy to hear it!"
   ]
  }
 ],
 "metadata": {
  "kernelspec": {
   "display_name": "Python 3 + Jaspy",
   "language": "python",
   "name": "jaspy"
  },
  "language_info": {
   "codemirror_mode": {
    "name": "ipython",
    "version": 3
   },
   "file_extension": ".py",
   "mimetype": "text/x-python",
   "name": "python",
   "nbconvert_exporter": "python",
   "pygments_lexer": "ipython3",
   "version": "3.10.5"
  }
 },
 "nbformat": 4,
 "nbformat_minor": 5
}
