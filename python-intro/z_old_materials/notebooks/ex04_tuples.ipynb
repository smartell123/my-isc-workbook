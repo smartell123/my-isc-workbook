{
  "metadata": {
    "language_info": {
      "codemirror_mode": {
        "name": "python",
        "version": 3
      },
      "file_extension": ".py",
      "mimetype": "text/x-python",
      "name": "python",
      "nbconvert_exporter": "python",
      "pygments_lexer": "ipython3",
      "version": "3.8"
    },
    "kernelspec": {
      "name": "python",
      "display_name": "Python (Pyodide)",
      "language": "python"
    }
  },
  "nbformat_minor": 4,
  "nbformat": 4,
  "cells": [
    {
      "cell_type": "markdown",
      "source": "# Tuples in Python\n\n## 1. Define a Tuple\nA tuple in python is a set of variables grouped together in the same way as a list, except a tuple is __immutable__ (i.e once it is defined it cannot be changed).\n\nIn a lot of cases, python will actually use tuple assignment without the programmer even noticing, as I learned from writing this notebook!\n\nWe define tuples using standard brackets `()` instead of square brackets `[]` like for lists, but a tuple is indexed in the same way as a list. ",
      "metadata": {}
    },
    {
      "cell_type": "code",
      "source": "odds = (1, 3, 5, 7)\nevens = (2, 4, 6, 8)\nprint(odds, evens)",
      "metadata": {
        "tags": [],
        "collapsed": true,
        "jupyter": {
          "outputs_hidden": true
        },
        "trusted": true
      },
      "execution_count": 2,
      "outputs": [
        {
          "name": "stdout",
          "text": "(1, 3, 5, 7) (2, 4, 6, 8)\n",
          "output_type": "stream"
        }
      ]
    },
    {
      "cell_type": "markdown",
      "source": "## 2. Single Item Tuples\nSometimes described as a \"syntactic wart\" of python, you have to use an extra comma to define a single item, otherwise python will drop the brackets altogether.",
      "metadata": {}
    },
    {
      "cell_type": "code",
      "source": "mynum   = (142857)\nmytuple = (142857,)\nprint('Mynum: ',type(mynum))\nprint('Mytuple: ',type(mytuple))",
      "metadata": {
        "collapsed": true,
        "jupyter": {
          "outputs_hidden": true
        },
        "tags": [],
        "trusted": true
      },
      "execution_count": 2,
      "outputs": [
        {
          "name": "stdout",
          "text": "Mynum:  <class 'int'>\nMytuple:  <class 'tuple'>\n",
          "output_type": "stream"
        }
      ]
    },
    {
      "cell_type": "markdown",
      "source": "## 3. Context and multiple variable assignment\nWhen defining a tuple, the brackets aren't actually required if the context is enough. i.e defining a single tuple with multiple values separated by commas.",
      "metadata": {}
    },
    {
      "cell_type": "code",
      "source": "primes = 2,3,5,7\nprint(type(primes))",
      "metadata": {
        "collapsed": true,
        "jupyter": {
          "outputs_hidden": true
        },
        "tags": [],
        "trusted": true
      },
      "execution_count": 3,
      "outputs": [
        {
          "name": "stdout",
          "text": "<class 'tuple'>\n",
          "output_type": "stream"
        }
      ]
    },
    {
      "cell_type": "markdown",
      "source": "The brackets are required if you're trying to create a more complex grouping of tuple items. i.e defining two tuples at once.",
      "metadata": {}
    },
    {
      "cell_type": "code",
      "source": "Earth, Sun = (1,0),(0,0) # Defining coordinates relative to origin (Sun)",
      "metadata": {
        "trusted": true
      },
      "execution_count": 4,
      "outputs": []
    },
    {
      "cell_type": "markdown",
      "source": "You can use multi-variable assignment in general to assign two variables of the same or different types, not simply limited to tuples.\nBehind the scenes python performs a tuple-to-tuple assignment, but then separates the variables as needed.",
      "metadata": {}
    },
    {
      "cell_type": "code",
      "source": "index, coefficient, value = 1, 16, 2",
      "metadata": {
        "trusted": true
      },
      "execution_count": 5,
      "outputs": []
    },
    {
      "cell_type": "markdown",
      "source": "## 4. Tuples as return values\nPython functions can be written to return multiple values, which will be passed as a single tuple. That way the function output can be captured in a single tuple variable or split into individual items at the point of the function call.",
      "metadata": {}
    },
    {
      "cell_type": "code",
      "source": "def maxmin(myarray):\n    maxV, minV = -999, 999\n    for value in myarray:\n        if value > maxV:\n            maxV = value\n        if value < minV:\n            minV = value\n    return maxV, minV\n\nlistA = [1,6,3,4,1,0,3,6,8]\nlistB = [2,9,12,7,7,1,1,4,0]\n\nsingleOut = maxmin(listA)\nprint(singleOut, type(singleOut))\nmaxA, minA = singleOut\n\nmaxB, minB = maxmin(listB)\nprint(maxA, minA)\nprint(maxB, minB)",
      "metadata": {
        "collapsed": true,
        "jupyter": {
          "outputs_hidden": true
        },
        "tags": [],
        "trusted": true
      },
      "execution_count": 7,
      "outputs": [
        {
          "name": "stdout",
          "text": "(8, 0) <class 'tuple'>\n8 0\n12 0\n",
          "output_type": "stream"
        }
      ]
    },
    {
      "cell_type": "markdown",
      "source": "## 5. Other uses of tuples\nA particularly handy use of tuples is for variable swapping (I didn't know python allowed this until writing this notebook!)",
      "metadata": {}
    },
    {
      "cell_type": "code",
      "source": "left, right = 0, 10\nright, left = left, right\n\nprint(left, right)",
      "metadata": {
        "collapsed": true,
        "jupyter": {
          "outputs_hidden": true
        },
        "tags": [],
        "trusted": true
      },
      "execution_count": 8,
      "outputs": [
        {
          "name": "stdout",
          "text": "10 0\n",
          "output_type": "stream"
        }
      ]
    },
    {
      "cell_type": "markdown",
      "source": "Python also allows a direct unpacking of a list into multiple variables which will use a tuple assignment in the background (doesn't immediately look like any tuples are used).",
      "metadata": {}
    },
    {
      "cell_type": "code",
      "source": "colours = ['Red','Blue','Green']\nred, blue, green = colours # Note: the number of variables must match the length of the list.\nprint(red)",
      "metadata": {
        "tags": [],
        "collapsed": true,
        "jupyter": {
          "outputs_hidden": true
        },
        "trusted": true
      },
      "execution_count": 5,
      "outputs": [
        {
          "name": "stdout",
          "text": "Red\n",
          "output_type": "stream"
        }
      ]
    },
    {
      "cell_type": "markdown",
      "source": "Finally, Tuples are also used in loops in different ways. Firstly, you can iterate through a list of tuples, assigning the tuple items to list variables.",
      "metadata": {}
    },
    {
      "cell_type": "code",
      "source": "pairs = [(1,10,100),(2,20,200),(3,30,300)]\nfor a,b,c in pairs:\n    print(a,c,b)",
      "metadata": {
        "collapsed": true,
        "jupyter": {
          "outputs_hidden": true
        },
        "tags": [],
        "trusted": true
      },
      "execution_count": 10,
      "outputs": [
        {
          "name": "stdout",
          "text": "1 100 10\n2 200 20\n3 300 30\n",
          "output_type": "stream"
        }
      ]
    },
    {
      "cell_type": "markdown",
      "source": "Secondly in something very useful for list iteration, you can use tuple assignment in conjunction with the `enumerate` function to iterate per item in a list, while retrieving the index of that item in the list.",
      "metadata": {}
    },
    {
      "cell_type": "code",
      "source": "for index, value in enumerate(['A','B','C']):\n    print(value, index)",
      "metadata": {
        "tags": [],
        "trusted": true
      },
      "execution_count": 11,
      "outputs": [
        {
          "name": "stdout",
          "text": "A 0\nB 1\nC 2\n",
          "output_type": "stream"
        }
      ]
    },
    {
      "cell_type": "markdown",
      "source": "Thirdly, tuples can be used in connection with the `zip` function to iterate through multiple arrays at the same time. The zip function will create a list of tuples the same length as the shortest list for iteration.",
      "metadata": {}
    },
    {
      "cell_type": "code",
      "source": "listC = [1,2,3]\nlistD = [1,2,4,5]\nfor items in zip(listC,listD):\n    print(items)",
      "metadata": {
        "trusted": true
      },
      "execution_count": 8,
      "outputs": [
        {
          "name": "stdout",
          "text": "(1, 1)\n(2, 2)\n(3, 4)\n",
          "output_type": "stream"
        }
      ]
    },
    {
      "cell_type": "markdown",
      "source": "To summarise:\n- tuples are immutable versions of lists.\n- they are defined with standard brackets but indexed with square brackets.\n- they are used in many different cases as the default for combining and defining variables.\n- there are some surprising use cases for tuples in places you wouldn't expect!",
      "metadata": {}
    }
  ]
}