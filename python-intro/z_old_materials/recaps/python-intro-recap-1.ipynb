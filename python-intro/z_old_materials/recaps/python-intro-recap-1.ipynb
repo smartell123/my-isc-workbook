{
 "cells": [
  {
   "cell_type": "markdown",
   "id": "14fdd53b-345d-4644-ad10-dc0119499f93",
   "metadata": {},
   "source": [
    "# Day 2 - morning recap\n",
    "\n",
    "What did we do yesterday?\n",
    "\n",
    "_Please ask questions whenever you like..._"
   ]
  },
  {
   "cell_type": "code",
   "execution_count": 4,
   "id": "986dccf8-b872-4788-ad39-d0d9d9c42f91",
   "metadata": {},
   "outputs": [
    {
     "data": {
      "text/plain": [
       "3"
      ]
     },
     "execution_count": 4,
     "metadata": {},
     "output_type": "execute_result"
    }
   ],
   "source": [
    "1 + 2"
   ]
  },
  {
   "cell_type": "code",
   "execution_count": 5,
   "id": "69a52b43-13fa-494c-b3c0-662a8641b298",
   "metadata": {},
   "outputs": [
    {
     "name": "stdout",
     "output_type": "stream",
     "text": [
      "3\n"
     ]
    }
   ],
   "source": [
    "print(1 + 2)"
   ]
  },
  {
   "cell_type": "code",
   "execution_count": 6,
   "id": "eff01687-e5b8-4fcf-b6ae-dab3eebec45f",
   "metadata": {},
   "outputs": [
    {
     "data": {
      "text/plain": [
       "int"
      ]
     },
     "execution_count": 6,
     "metadata": {},
     "output_type": "execute_result"
    }
   ],
   "source": [
    "type(1)"
   ]
  },
  {
   "cell_type": "code",
   "execution_count": 7,
   "id": "f9eaa95b-f40e-4a90-aa3a-ff1569d1bfbf",
   "metadata": {},
   "outputs": [
    {
     "data": {
      "text/plain": [
       "float"
      ]
     },
     "execution_count": 7,
     "metadata": {},
     "output_type": "execute_result"
    }
   ],
   "source": [
    "type(1.1)"
   ]
  },
  {
   "cell_type": "code",
   "execution_count": 8,
   "id": "1701c739-94df-46ff-94f8-09fea4d9b652",
   "metadata": {},
   "outputs": [
    {
     "data": {
      "text/plain": [
       "str"
      ]
     },
     "execution_count": 8,
     "metadata": {},
     "output_type": "execute_result"
    }
   ],
   "source": [
    "type(\"1\")"
   ]
  },
  {
   "cell_type": "code",
   "execution_count": 9,
   "id": "7d221593-d325-4f83-b4c7-756c8dd4dd92",
   "metadata": {},
   "outputs": [
    {
     "data": {
      "text/plain": [
       "'hi,hi,'"
      ]
     },
     "execution_count": 9,
     "metadata": {},
     "output_type": "execute_result"
    }
   ],
   "source": [
    "2 * \"hi,\""
   ]
  },
  {
   "cell_type": "code",
   "execution_count": 10,
   "id": "6a6fc851-977a-4971-b129-41cf62a84752",
   "metadata": {},
   "outputs": [
    {
     "ename": "TypeError",
     "evalue": "can't multiply sequence by non-int of type 'float'",
     "output_type": "error",
     "traceback": [
      "\u001b[0;31m---------------------------------------------------------------------------\u001b[0m",
      "\u001b[0;31mTypeError\u001b[0m                                 Traceback (most recent call last)",
      "Cell \u001b[0;32mIn [10], line 1\u001b[0m\n\u001b[0;32m----> 1\u001b[0m \u001b[38;5;241;43m2.3\u001b[39;49m\u001b[43m \u001b[49m\u001b[38;5;241;43m*\u001b[39;49m\u001b[43m \u001b[49m\u001b[38;5;124;43m\"\u001b[39;49m\u001b[38;5;124;43mhi\u001b[39;49m\u001b[38;5;124;43m\"\u001b[39;49m\n",
      "\u001b[0;31mTypeError\u001b[0m: can't multiply sequence by non-int of type 'float'"
     ]
    }
   ],
   "source": [
    "2.3 * \"hi\""
   ]
  },
  {
   "cell_type": "code",
   "execution_count": 11,
   "id": "4c3d6966-95d9-4665-973f-29e6a3ab3508",
   "metadata": {},
   "outputs": [],
   "source": [
    "s1 = 'hi'\n",
    "s2 = \"hi\"\n",
    "s3 = \"\"\"hi\"\"\""
   ]
  },
  {
   "cell_type": "code",
   "execution_count": 12,
   "id": "9827f668-a304-426d-94cb-953156ea32ba",
   "metadata": {},
   "outputs": [
    {
     "data": {
      "text/plain": [
       "True"
      ]
     },
     "execution_count": 12,
     "metadata": {},
     "output_type": "execute_result"
    }
   ],
   "source": [
    "s1 == s2"
   ]
  },
  {
   "cell_type": "code",
   "execution_count": 13,
   "id": "854e4217-6590-451a-aabb-839e9745cd95",
   "metadata": {},
   "outputs": [],
   "source": [
    "x = 21/7"
   ]
  },
  {
   "cell_type": "code",
   "execution_count": 20,
   "id": "84079ada-4647-4df7-bb06-84417ccd6fcb",
   "metadata": {},
   "outputs": [],
   "source": [
    "x = 3"
   ]
  },
  {
   "cell_type": "code",
   "execution_count": 21,
   "id": "12caf515-88d5-4ec0-9d8a-dd6a47f7b222",
   "metadata": {},
   "outputs": [
    {
     "data": {
      "text/plain": [
       "'3'"
      ]
     },
     "execution_count": 21,
     "metadata": {},
     "output_type": "execute_result"
    }
   ],
   "source": [
    "str(x)"
   ]
  },
  {
   "cell_type": "code",
   "execution_count": 22,
   "id": "52c4f309-6043-449a-ae9c-68a42d0adf3d",
   "metadata": {},
   "outputs": [
    {
     "data": {
      "text/plain": [
       "'3'"
      ]
     },
     "execution_count": 22,
     "metadata": {},
     "output_type": "execute_result"
    }
   ],
   "source": [
    "str_x = str(x)\n",
    "str_x"
   ]
  },
  {
   "cell_type": "code",
   "execution_count": 24,
   "id": "0c834359-1ff4-4e70-bc25-3da9d9731da5",
   "metadata": {},
   "outputs": [],
   "source": [
    "int_x = int(str_x)"
   ]
  },
  {
   "cell_type": "code",
   "execution_count": 25,
   "id": "3d959a1d-03dc-4d0b-b750-efbad7d876c0",
   "metadata": {},
   "outputs": [
    {
     "data": {
      "text/plain": [
       "True"
      ]
     },
     "execution_count": 25,
     "metadata": {},
     "output_type": "execute_result"
    }
   ],
   "source": [
    "int_x == x"
   ]
  },
  {
   "cell_type": "code",
   "execution_count": 26,
   "id": "ee67ac94-134b-4d97-9f72-a17936683da5",
   "metadata": {},
   "outputs": [
    {
     "data": {
      "text/plain": [
       "(int, str)"
      ]
     },
     "execution_count": 26,
     "metadata": {},
     "output_type": "execute_result"
    }
   ],
   "source": [
    "type(int_x), type(str_x)"
   ]
  },
  {
   "cell_type": "code",
   "execution_count": 27,
   "id": "b385c951-12f9-4aad-ac0c-42fd9a1c5a1b",
   "metadata": {},
   "outputs": [
    {
     "name": "stdout",
     "output_type": "stream",
     "text": [
      "3\n"
     ]
    }
   ],
   "source": [
    "if True:\n",
    "    print(x)"
   ]
  },
  {
   "cell_type": "code",
   "execution_count": 28,
   "id": "5c681072-3b47-4f16-a086-da6507f6391a",
   "metadata": {},
   "outputs": [
    {
     "name": "stdout",
     "output_type": "stream",
     "text": [
      "3\n"
     ]
    }
   ],
   "source": [
    "if x:\n",
    "    print(x)"
   ]
  },
  {
   "cell_type": "code",
   "execution_count": 31,
   "id": "fc1e1e1d-43df-4619-9829-5ee4cf38fb3f",
   "metadata": {},
   "outputs": [],
   "source": [
    "if x < 0: print(x)"
   ]
  },
  {
   "cell_type": "code",
   "execution_count": 32,
   "id": "c6c749e2-a244-4d78-a8a4-c40011e77c4b",
   "metadata": {},
   "outputs": [
    {
     "name": "stdout",
     "output_type": "stream",
     "text": [
      "3\n"
     ]
    }
   ],
   "source": [
    "if x < 0 or x == 3:\n",
    "    print(x)"
   ]
  },
  {
   "cell_type": "code",
   "execution_count": 34,
   "id": "89893f34-6f54-46df-9a48-af2a99d4e875",
   "metadata": {},
   "outputs": [],
   "source": [
    "if []: \n",
    "    print(\"no print\")"
   ]
  },
  {
   "cell_type": "code",
   "execution_count": 35,
   "id": "5ffcf44f-4d5e-4603-8771-c924d007b3be",
   "metadata": {},
   "outputs": [
    {
     "name": "stdout",
     "output_type": "stream",
     "text": [
      "HI\n"
     ]
    }
   ],
   "source": [
    "if [1, 2]:\n",
    "    print(\"HI\")"
   ]
  },
  {
   "cell_type": "code",
   "execution_count": 36,
   "id": "70cf1c31-73be-4ec8-a3a5-d166eba6632e",
   "metadata": {},
   "outputs": [],
   "source": [
    "if \"\": print(\"no\")"
   ]
  },
  {
   "cell_type": "code",
   "execution_count": 37,
   "id": "383f1a21-6986-4291-9a82-6a439343cb26",
   "metadata": {},
   "outputs": [
    {
     "name": "stdout",
     "output_type": "stream",
     "text": [
      "Counting: 1\n",
      "Counting: 2\n",
      "Counting: 3\n",
      "Counting: 4\n",
      "End: 5\n"
     ]
    }
   ],
   "source": [
    "LIMIT = 5\n",
    "counter = 1\n",
    "\n",
    "while counter < LIMIT:\n",
    "    print(\"Counting:\", counter)\n",
    "    counter += 1\n",
    "\n",
    "print(\"End:\", counter)"
   ]
  },
  {
   "cell_type": "code",
   "execution_count": 38,
   "id": "69b6dc9c-bdcb-410e-ae3f-6b180c26a6d6",
   "metadata": {},
   "outputs": [
    {
     "name": "stdout",
     "output_type": "stream",
     "text": [
      "negative\n",
      "negative\n",
      "negative\n",
      "zero\n",
      "positive\n",
      "positive\n",
      "positive\n",
      "positive\n",
      "End: 5\n"
     ]
    }
   ],
   "source": [
    "LIMIT = 5\n",
    "counter = -3\n",
    "\n",
    "while counter < LIMIT:\n",
    "    if counter < 0:\n",
    "        print(\"negative\")\n",
    "    elif counter == 0:\n",
    "        print(\"zero\")\n",
    "    else:\n",
    "        print(\"positive\")\n",
    "    counter += 1\n",
    "\n",
    "print(\"End:\", counter)"
   ]
  },
  {
   "cell_type": "code",
   "execution_count": 39,
   "id": "9dfcacb3-7f79-453d-bfab-e44c5a18f3a2",
   "metadata": {},
   "outputs": [
    {
     "name": "stdout",
     "output_type": "stream",
     "text": [
      "1 <class 'int'>\n",
      "hi <class 'str'>\n",
      "3.4 <class 'float'>\n"
     ]
    }
   ],
   "source": [
    "mylist = [1, \"hi\", 3.4]\n",
    "\n",
    "for i in mylist:\n",
    "    print(i, type(i))"
   ]
  },
  {
   "cell_type": "code",
   "execution_count": 40,
   "id": "96dffceb-52c8-4278-af9a-69fa4412937c",
   "metadata": {},
   "outputs": [],
   "source": [
    "evens = []\n",
    "counter = -3\n",
    "\n",
    "while counter < LIMIT:\n",
    "    if counter % 2 == 0:\n",
    "        evens.append(counter)\n",
    "\n",
    "    counter += 1"
   ]
  },
  {
   "cell_type": "code",
   "execution_count": 41,
   "id": "1d36ac25-2f2e-443e-a30d-f22db56cf48d",
   "metadata": {},
   "outputs": [
    {
     "data": {
      "text/plain": [
       "[-2, 0, 2, 4]"
      ]
     },
     "execution_count": 41,
     "metadata": {},
     "output_type": "execute_result"
    }
   ],
   "source": [
    "evens"
   ]
  },
  {
   "cell_type": "code",
   "execution_count": 42,
   "id": "03d08f67-4919-4039-883c-73b3b3b97503",
   "metadata": {},
   "outputs": [
    {
     "data": {
      "text/plain": [
       "['__add__',\n",
       " '__class__',\n",
       " '__class_getitem__',\n",
       " '__contains__',\n",
       " '__delattr__',\n",
       " '__delitem__',\n",
       " '__dir__',\n",
       " '__doc__',\n",
       " '__eq__',\n",
       " '__format__',\n",
       " '__ge__',\n",
       " '__getattribute__',\n",
       " '__getitem__',\n",
       " '__gt__',\n",
       " '__hash__',\n",
       " '__iadd__',\n",
       " '__imul__',\n",
       " '__init__',\n",
       " '__init_subclass__',\n",
       " '__iter__',\n",
       " '__le__',\n",
       " '__len__',\n",
       " '__lt__',\n",
       " '__mul__',\n",
       " '__ne__',\n",
       " '__new__',\n",
       " '__reduce__',\n",
       " '__reduce_ex__',\n",
       " '__repr__',\n",
       " '__reversed__',\n",
       " '__rmul__',\n",
       " '__setattr__',\n",
       " '__setitem__',\n",
       " '__sizeof__',\n",
       " '__str__',\n",
       " '__subclasshook__',\n",
       " 'append',\n",
       " 'clear',\n",
       " 'copy',\n",
       " 'count',\n",
       " 'extend',\n",
       " 'index',\n",
       " 'insert',\n",
       " 'pop',\n",
       " 'remove',\n",
       " 'reverse',\n",
       " 'sort']"
      ]
     },
     "execution_count": 42,
     "metadata": {},
     "output_type": "execute_result"
    }
   ],
   "source": [
    "dir(evens)"
   ]
  },
  {
   "cell_type": "code",
   "execution_count": 43,
   "id": "451a5b42-2368-453f-934f-a2710f1d97a9",
   "metadata": {},
   "outputs": [
    {
     "data": {
      "text/plain": [
       "[-2, 0, 2, 4]"
      ]
     },
     "execution_count": 43,
     "metadata": {},
     "output_type": "execute_result"
    }
   ],
   "source": [
    "evens"
   ]
  },
  {
   "cell_type": "code",
   "execution_count": 44,
   "id": "af27c593-8ae0-45e5-b140-fd9184398b93",
   "metadata": {},
   "outputs": [],
   "source": [
    "evens.remove(4)"
   ]
  },
  {
   "cell_type": "code",
   "execution_count": 45,
   "id": "ffdeaf92-6795-4a87-970c-3850876f2e02",
   "metadata": {},
   "outputs": [
    {
     "data": {
      "text/plain": [
       "[-2, 0, 2]"
      ]
     },
     "execution_count": 45,
     "metadata": {},
     "output_type": "execute_result"
    }
   ],
   "source": [
    "evens"
   ]
  },
  {
   "cell_type": "code",
   "execution_count": 46,
   "id": "53ab3cda-3d90-4045-b7c8-0ce51dfca8b0",
   "metadata": {},
   "outputs": [
    {
     "name": "stdout",
     "output_type": "stream",
     "text": [
      "Help on built-in function insert:\n",
      "\n",
      "insert(index, object, /) method of builtins.list instance\n",
      "    Insert object before index.\n",
      "\n"
     ]
    }
   ],
   "source": [
    "help(evens.insert)"
   ]
  },
  {
   "cell_type": "code",
   "execution_count": 47,
   "id": "642ef34b-1821-40aa-b933-a2922197b27f",
   "metadata": {},
   "outputs": [],
   "source": [
    "evens.insert(0, \"hello\")"
   ]
  },
  {
   "cell_type": "code",
   "execution_count": 48,
   "id": "91c37760-4243-4a3d-a915-c852b75335f8",
   "metadata": {},
   "outputs": [
    {
     "data": {
      "text/plain": [
       "['hello', -2, 0, 2]"
      ]
     },
     "execution_count": 48,
     "metadata": {},
     "output_type": "execute_result"
    }
   ],
   "source": [
    "evens"
   ]
  },
  {
   "cell_type": "code",
   "execution_count": 49,
   "id": "30fb97af-56de-4d52-9286-7de5fa763beb",
   "metadata": {},
   "outputs": [
    {
     "data": {
      "text/plain": [
       "'hello'"
      ]
     },
     "execution_count": 49,
     "metadata": {},
     "output_type": "execute_result"
    }
   ],
   "source": [
    "evens[0]"
   ]
  },
  {
   "cell_type": "code",
   "execution_count": 50,
   "id": "955cb585-8b12-4915-8a10-52756838649d",
   "metadata": {},
   "outputs": [
    {
     "data": {
      "text/plain": [
       "2"
      ]
     },
     "execution_count": 50,
     "metadata": {},
     "output_type": "execute_result"
    }
   ],
   "source": [
    "evens[3]"
   ]
  },
  {
   "cell_type": "code",
   "execution_count": 51,
   "id": "3701ec1c-a39a-4140-80e9-170d61ac5d7c",
   "metadata": {},
   "outputs": [
    {
     "data": {
      "text/plain": [
       "2"
      ]
     },
     "execution_count": 51,
     "metadata": {},
     "output_type": "execute_result"
    }
   ],
   "source": [
    "evens[-1]"
   ]
  },
  {
   "cell_type": "code",
   "execution_count": 52,
   "id": "4f8b6a9e-d5c3-46de-a2cc-50a707bb667f",
   "metadata": {},
   "outputs": [
    {
     "data": {
      "text/plain": [
       "0"
      ]
     },
     "execution_count": 52,
     "metadata": {},
     "output_type": "execute_result"
    }
   ],
   "source": [
    "evens[-2]"
   ]
  },
  {
   "cell_type": "code",
   "execution_count": 53,
   "id": "0c41c5b3-9ede-42cb-9315-46767758b9e7",
   "metadata": {},
   "outputs": [],
   "source": [
    "staff1 = [\"Janet\", \"CIO\", 78932]\n",
    "staff2 = [\"Fred\", \"TechMngr\", 56032]"
   ]
  },
  {
   "cell_type": "code",
   "execution_count": 54,
   "id": "846b902b-be20-445b-9581-4f8945709d4a",
   "metadata": {},
   "outputs": [],
   "source": [
    "staff = [staff1, staff2]"
   ]
  },
  {
   "cell_type": "code",
   "execution_count": 55,
   "id": "16405262-e3c4-47b0-b4d9-0b6ad4e00c94",
   "metadata": {},
   "outputs": [
    {
     "data": {
      "text/plain": [
       "[['Janet', 'CIO', 78932], ['Fred', 'TechMngr', 56032]]"
      ]
     },
     "execution_count": 55,
     "metadata": {},
     "output_type": "execute_result"
    }
   ],
   "source": [
    "staff"
   ]
  },
  {
   "cell_type": "code",
   "execution_count": 58,
   "id": "8d133ba6-2d8d-464e-bd5e-6137a53901dd",
   "metadata": {},
   "outputs": [
    {
     "name": "stdout",
     "output_type": "stream",
     "text": [
      "Janet earns 78932\n",
      "Fred earns 56032\n"
     ]
    }
   ],
   "source": [
    "for member in staff:\n",
    "    name, role, salary = member\n",
    "    print(name, \"earns\", salary)"
   ]
  },
  {
   "cell_type": "code",
   "execution_count": 60,
   "id": "7dd813e1-c86f-440e-88e4-2b664b22a5ae",
   "metadata": {},
   "outputs": [
    {
     "name": "stdout",
     "output_type": "stream",
     "text": [
      "Janet earns 78932\n",
      "Fred earns 56032\n"
     ]
    }
   ],
   "source": [
    "for name, role, salary in staff:\n",
    "    print(name, \"earns\", salary)"
   ]
  },
  {
   "cell_type": "code",
   "execution_count": 61,
   "id": "b35de76f-7c63-4d2d-81bf-cc3bbf384c7f",
   "metadata": {},
   "outputs": [
    {
     "data": {
      "text/plain": [
       "2"
      ]
     },
     "execution_count": 61,
     "metadata": {},
     "output_type": "execute_result"
    }
   ],
   "source": [
    "len(staff)"
   ]
  },
  {
   "cell_type": "code",
   "execution_count": 63,
   "id": "927f61b8-1382-4f50-8de2-cb19fcd565e5",
   "metadata": {},
   "outputs": [
    {
     "name": "stdout",
     "output_type": "stream",
     "text": [
      "Janet earns 78932\n",
      "Fred earns 56032\n"
     ]
    }
   ],
   "source": [
    "staff = [('Janet', 'CIO', 78932), ('Fred', 'TechMngr', 56032)]\n",
    "for name, role, salary in staff:\n",
    "    print(name, \"earns\", salary)"
   ]
  },
  {
   "cell_type": "code",
   "execution_count": 64,
   "id": "ab5784d8-56c4-4332-bb94-d3a6eda76cf1",
   "metadata": {},
   "outputs": [
    {
     "data": {
      "text/plain": [
       "['__add__',\n",
       " '__class__',\n",
       " '__class_getitem__',\n",
       " '__contains__',\n",
       " '__delattr__',\n",
       " '__dir__',\n",
       " '__doc__',\n",
       " '__eq__',\n",
       " '__format__',\n",
       " '__ge__',\n",
       " '__getattribute__',\n",
       " '__getitem__',\n",
       " '__getnewargs__',\n",
       " '__gt__',\n",
       " '__hash__',\n",
       " '__init__',\n",
       " '__init_subclass__',\n",
       " '__iter__',\n",
       " '__le__',\n",
       " '__len__',\n",
       " '__lt__',\n",
       " '__mul__',\n",
       " '__ne__',\n",
       " '__new__',\n",
       " '__reduce__',\n",
       " '__reduce_ex__',\n",
       " '__repr__',\n",
       " '__rmul__',\n",
       " '__setattr__',\n",
       " '__sizeof__',\n",
       " '__str__',\n",
       " '__subclasshook__',\n",
       " 'count',\n",
       " 'index']"
      ]
     },
     "execution_count": 64,
     "metadata": {},
     "output_type": "execute_result"
    }
   ],
   "source": [
    "t = (1, 2)\n",
    "dir(t)"
   ]
  },
  {
   "cell_type": "code",
   "execution_count": 65,
   "id": "8485e227-1377-432e-b9f0-2ee17e1d5599",
   "metadata": {},
   "outputs": [
    {
     "data": {
      "text/plain": [
       "[['Janet', 'CIO', 78932], ['Fred', 'TechMngr', 56032], ['Jack', 'Temp', 33333]]"
      ]
     },
     "execution_count": 65,
     "metadata": {},
     "output_type": "execute_result"
    }
   ],
   "source": [
    "staff = [['Janet', 'CIO', 78932], ['Fred', 'TechMngr', 56032]]\n",
    "staff.append([\"Jack\", \"Temp\", 33333])\n",
    "staff"
   ]
  },
  {
   "cell_type": "code",
   "execution_count": 66,
   "id": "00a10362-fec1-49fa-a5a6-314483a66a82",
   "metadata": {},
   "outputs": [],
   "source": [
    "staff4 = [\"Irma\", \"Chef\", 99999]\n",
    "staff.append(staff4)"
   ]
  },
  {
   "cell_type": "code",
   "execution_count": 67,
   "id": "860e5feb-8c8f-4a4d-ab0c-2ff7d73ffc3e",
   "metadata": {},
   "outputs": [
    {
     "data": {
      "text/plain": [
       "[['Janet', 'CIO', 78932],\n",
       " ['Fred', 'TechMngr', 56032],\n",
       " ['Jack', 'Temp', 33333],\n",
       " ['Irma', 'Chef', 99999]]"
      ]
     },
     "execution_count": 67,
     "metadata": {},
     "output_type": "execute_result"
    }
   ],
   "source": [
    "staff"
   ]
  },
  {
   "cell_type": "code",
   "execution_count": 69,
   "id": "c20ef281-2bc2-45f2-ba59-ba183c5f18b8",
   "metadata": {},
   "outputs": [],
   "source": [
    "del staff[2]"
   ]
  },
  {
   "cell_type": "code",
   "execution_count": 70,
   "id": "0d914cd7-dfa5-4c0d-a370-8671a8be12cb",
   "metadata": {},
   "outputs": [
    {
     "data": {
      "text/plain": [
       "[['Janet', 'CIO', 78932], ['Fred', 'TechMngr', 56032], ['Irma', 'Chef', 99999]]"
      ]
     },
     "execution_count": 70,
     "metadata": {},
     "output_type": "execute_result"
    }
   ],
   "source": [
    "staff"
   ]
  },
  {
   "cell_type": "code",
   "execution_count": 71,
   "id": "4ed57e42-bc28-444b-8557-0f699b93e9a3",
   "metadata": {},
   "outputs": [
    {
     "name": "stdout",
     "output_type": "stream",
     "text": [
      "We have 3 employees\n"
     ]
    }
   ],
   "source": [
    "print(\"We have\", len(staff), \"employees\")"
   ]
  },
  {
   "cell_type": "code",
   "execution_count": 72,
   "id": "a01ca77e-dd34-460d-8898-2c66fad5d693",
   "metadata": {},
   "outputs": [],
   "source": [
    "staff_dict = {\"Jack\": [\"Temp\", 33333], \"Fred\": ['TechMngr', 56032]}"
   ]
  },
  {
   "cell_type": "code",
   "execution_count": 73,
   "id": "e55e006f-43a7-4915-abf6-d82796c668e9",
   "metadata": {},
   "outputs": [
    {
     "data": {
      "text/plain": [
       "['Temp', 33333]"
      ]
     },
     "execution_count": 73,
     "metadata": {},
     "output_type": "execute_result"
    }
   ],
   "source": [
    "staff_dict[\"Jack\"]"
   ]
  },
  {
   "cell_type": "code",
   "execution_count": 74,
   "id": "216837fd-2f32-4498-adb0-4275dd1e842d",
   "metadata": {},
   "outputs": [],
   "source": [
    "names = []\n",
    "for name, role, salary in staff:\n",
    "    names.append(name)"
   ]
  },
  {
   "cell_type": "code",
   "execution_count": 75,
   "id": "b0539029-9eb3-4f3d-8b44-b2ac246219dd",
   "metadata": {},
   "outputs": [
    {
     "data": {
      "text/plain": [
       "['Janet', 'Fred', 'Irma']"
      ]
     },
     "execution_count": 75,
     "metadata": {},
     "output_type": "execute_result"
    }
   ],
   "source": [
    "names"
   ]
  },
  {
   "cell_type": "code",
   "execution_count": 76,
   "id": "9d8b781a-8b34-4f2f-9934-aedc364f137d",
   "metadata": {},
   "outputs": [],
   "source": [
    "sorted_names = sorted(names)"
   ]
  },
  {
   "cell_type": "code",
   "execution_count": 78,
   "id": "e5dd6a06-b7a3-421a-915a-9e17b0b2e6f1",
   "metadata": {},
   "outputs": [
    {
     "data": {
      "text/plain": [
       "(['Fred', 'Irma', 'Janet'], ['Janet', 'Fred', 'Irma'])"
      ]
     },
     "execution_count": 78,
     "metadata": {},
     "output_type": "execute_result"
    }
   ],
   "source": [
    "sorted_names, names"
   ]
  },
  {
   "cell_type": "code",
   "execution_count": 80,
   "id": "7392cfd7-45dc-4e1d-8102-3559f5c5b586",
   "metadata": {},
   "outputs": [
    {
     "data": {
      "text/plain": [
       "True"
      ]
     },
     "execution_count": 80,
     "metadata": {},
     "output_type": "execute_result"
    }
   ],
   "source": [
    "names.sort()\n",
    "sorted_names == names"
   ]
  },
  {
   "cell_type": "code",
   "execution_count": 81,
   "id": "d8c81edf-5a52-4a74-991b-7451afd01931",
   "metadata": {},
   "outputs": [
    {
     "data": {
      "text/plain": [
       "True"
      ]
     },
     "execution_count": 81,
     "metadata": {},
     "output_type": "execute_result"
    }
   ],
   "source": [
    "\"Irma\" in names"
   ]
  },
  {
   "cell_type": "code",
   "execution_count": 83,
   "id": "ddb78100-edb1-4cef-9288-a4ad5ca92d55",
   "metadata": {},
   "outputs": [],
   "source": [
    "if \"Irma\" not in names:\n",
    "    print(\"not found Irma\")"
   ]
  },
  {
   "cell_type": "code",
   "execution_count": 85,
   "id": "f4434a00-712e-408b-bdde-e53454c7dc59",
   "metadata": {},
   "outputs": [
    {
     "data": {
      "text/plain": [
       "[0, 2, 4, 6, 8]"
      ]
     },
     "execution_count": 85,
     "metadata": {},
     "output_type": "execute_result"
    }
   ],
   "source": [
    "LIMIT = 10\n",
    "counter = 0\n",
    "evens = []\n",
    "\n",
    "while counter < LIMIT:\n",
    "    if counter % 2 == 0:\n",
    "\t    evens.append(counter)\n",
    "\t\t\n",
    "    counter += 1\t\n",
    "\n",
    "evens"
   ]
  },
  {
   "cell_type": "code",
   "execution_count": 86,
   "id": "b6287287-b17e-4cba-aef5-d12c7be9e924",
   "metadata": {},
   "outputs": [
    {
     "data": {
      "text/plain": [
       "[0, 2, 4, 6, 8]"
      ]
     },
     "execution_count": 86,
     "metadata": {},
     "output_type": "execute_result"
    }
   ],
   "source": [
    "evens = []\n",
    "for counter in range(0, 10):\n",
    "    if counter % 2 == 0:\n",
    "\t    evens.append(counter)\n",
    "\t\t\n",
    "evens"
   ]
  },
  {
   "cell_type": "code",
   "execution_count": 88,
   "id": "6d66ae8e-1646-495a-ba04-a269586731a3",
   "metadata": {},
   "outputs": [
    {
     "data": {
      "text/plain": [
       "[0, 1, 2, 3, 4, 5, 6, 7, 8, 9]"
      ]
     },
     "execution_count": 88,
     "metadata": {},
     "output_type": "execute_result"
    }
   ],
   "source": [
    "# List comprehensions\n",
    "numbers = [counter for counter in range(0, 10)]\n",
    "numbers"
   ]
  },
  {
   "cell_type": "code",
   "execution_count": 89,
   "id": "bc1169ae-b2a9-4612-9600-3e74c94b5be6",
   "metadata": {},
   "outputs": [
    {
     "data": {
      "text/plain": [
       "[0, 2, 4, 6, 8]"
      ]
     },
     "execution_count": 89,
     "metadata": {},
     "output_type": "execute_result"
    }
   ],
   "source": [
    "evens =  [counter for counter in range(0, 10) if counter % 2 == 0]\n",
    "evens"
   ]
  },
  {
   "cell_type": "code",
   "execution_count": 90,
   "id": "72846739-5d1d-4f48-85e9-78fe61a0bc8b",
   "metadata": {},
   "outputs": [],
   "source": [
    "x = range(100000000000000000000000000)"
   ]
  },
  {
   "cell_type": "code",
   "execution_count": 91,
   "id": "63a5087e-5e5e-43a2-9c2f-19b9f211c44b",
   "metadata": {},
   "outputs": [
    {
     "data": {
      "text/plain": [
       "range"
      ]
     },
     "execution_count": 91,
     "metadata": {},
     "output_type": "execute_result"
    }
   ],
   "source": [
    "type(x)"
   ]
  },
  {
   "cell_type": "code",
   "execution_count": 93,
   "id": "e82ed920-6ffc-4e61-b956-3fa211e714b2",
   "metadata": {},
   "outputs": [
    {
     "data": {
      "text/plain": [
       "[0,\n",
       " 1,\n",
       " 2,\n",
       " 3,\n",
       " 4,\n",
       " 5,\n",
       " 6,\n",
       " 7,\n",
       " 8,\n",
       " 9,\n",
       " 10,\n",
       " 11,\n",
       " 12,\n",
       " 13,\n",
       " 14,\n",
       " 15,\n",
       " 16,\n",
       " 17,\n",
       " 18,\n",
       " 19,\n",
       " 20,\n",
       " 21,\n",
       " 22,\n",
       " 23,\n",
       " 24,\n",
       " 25,\n",
       " 26,\n",
       " 27,\n",
       " 28,\n",
       " 29,\n",
       " 30,\n",
       " 31,\n",
       " 32,\n",
       " 33,\n",
       " 34,\n",
       " 35,\n",
       " 36,\n",
       " 37,\n",
       " 38,\n",
       " 39,\n",
       " 40,\n",
       " 41,\n",
       " 42,\n",
       " 43,\n",
       " 44,\n",
       " 45,\n",
       " 46,\n",
       " 47,\n",
       " 48,\n",
       " 49,\n",
       " 50,\n",
       " 51,\n",
       " 52,\n",
       " 53,\n",
       " 54,\n",
       " 55,\n",
       " 56,\n",
       " 57,\n",
       " 58,\n",
       " 59,\n",
       " 60,\n",
       " 61,\n",
       " 62,\n",
       " 63,\n",
       " 64,\n",
       " 65,\n",
       " 66,\n",
       " 67,\n",
       " 68,\n",
       " 69,\n",
       " 70,\n",
       " 71,\n",
       " 72,\n",
       " 73,\n",
       " 74,\n",
       " 75,\n",
       " 76,\n",
       " 77,\n",
       " 78,\n",
       " 79,\n",
       " 80,\n",
       " 81,\n",
       " 82,\n",
       " 83,\n",
       " 84,\n",
       " 85,\n",
       " 86,\n",
       " 87,\n",
       " 88,\n",
       " 89,\n",
       " 90,\n",
       " 91,\n",
       " 92,\n",
       " 93,\n",
       " 94,\n",
       " 95,\n",
       " 96,\n",
       " 97,\n",
       " 98,\n",
       " 99]"
      ]
     },
     "execution_count": 93,
     "metadata": {},
     "output_type": "execute_result"
    }
   ],
   "source": [
    "x = list(range(100))\n",
    "x"
   ]
  },
  {
   "cell_type": "code",
   "execution_count": 94,
   "id": "cd799607-17e0-4cf5-ae19-db41cf2eb851",
   "metadata": {},
   "outputs": [
    {
     "data": {
      "text/plain": [
       "100"
      ]
     },
     "execution_count": 94,
     "metadata": {},
     "output_type": "execute_result"
    }
   ],
   "source": [
    "len(x)\n"
   ]
  },
  {
   "cell_type": "code",
   "execution_count": 97,
   "id": "6e370849-45b3-451c-bb7a-329e356725de",
   "metadata": {},
   "outputs": [
    {
     "data": {
      "text/plain": [
       "int"
      ]
     },
     "execution_count": 97,
     "metadata": {},
     "output_type": "execute_result"
    }
   ],
   "source": [
    "type(x[4])"
   ]
  },
  {
   "cell_type": "code",
   "execution_count": 99,
   "id": "4ca4bd04-ebe2-4bd2-b18e-5507d0749f47",
   "metadata": {},
   "outputs": [
    {
     "data": {
      "text/plain": [
       "list"
      ]
     },
     "execution_count": 99,
     "metadata": {},
     "output_type": "execute_result"
    }
   ],
   "source": [
    "type(x[:4])"
   ]
  },
  {
   "cell_type": "code",
   "execution_count": 100,
   "id": "09fd033c-95ae-46ee-b4f9-07a135aa89a5",
   "metadata": {},
   "outputs": [
    {
     "data": {
      "text/plain": [
       "['Irma']"
      ]
     },
     "execution_count": 100,
     "metadata": {},
     "output_type": "execute_result"
    }
   ],
   "source": [
    "first_5 = x[:5]\n",
    "type(first_5)\n",
    "last_5 = x[-5:]\n",
    "from_90_to_500 = x[90:500]\n",
    "names[1:2]"
   ]
  },
  {
   "cell_type": "code",
   "execution_count": 101,
   "id": "1cf12792-b376-4dad-8d5f-601d06ae120b",
   "metadata": {},
   "outputs": [
    {
     "data": {
      "text/plain": [
       "[0, 1, 2, 3, 4]"
      ]
     },
     "execution_count": 101,
     "metadata": {},
     "output_type": "execute_result"
    }
   ],
   "source": [
    "first_5 = x[:5]\n",
    "first_5"
   ]
  },
  {
   "cell_type": "code",
   "execution_count": 102,
   "id": "6377c437-10e4-4b40-ad19-16cefae9e784",
   "metadata": {},
   "outputs": [
    {
     "data": {
      "text/plain": [
       "[95, 96, 97, 98, 99]"
      ]
     },
     "execution_count": 102,
     "metadata": {},
     "output_type": "execute_result"
    }
   ],
   "source": [
    "last_5 = x[-5:]\n",
    "last_5"
   ]
  },
  {
   "cell_type": "code",
   "execution_count": 105,
   "id": "aee2f699-aa97-4d47-8556-11b0041041c4",
   "metadata": {},
   "outputs": [
    {
     "data": {
      "text/plain": [
       "[90, 91, 92, 93, 94]"
      ]
     },
     "execution_count": 105,
     "metadata": {},
     "output_type": "execute_result"
    }
   ],
   "source": [
    "x[90:-5]"
   ]
  },
  {
   "cell_type": "code",
   "execution_count": 106,
   "id": "a88f6145-287d-4fed-83a1-f8174feb4598",
   "metadata": {},
   "outputs": [],
   "source": [
    "t = (\"red\", \"green\", \"blue\")"
   ]
  },
  {
   "cell_type": "code",
   "execution_count": 107,
   "id": "294ffdd7-6704-46c9-9972-59d56cfa6baf",
   "metadata": {},
   "outputs": [
    {
     "data": {
      "text/plain": [
       "('red', 'green', 'blue')"
      ]
     },
     "execution_count": 107,
     "metadata": {},
     "output_type": "execute_result"
    }
   ],
   "source": [
    "t"
   ]
  },
  {
   "cell_type": "code",
   "execution_count": 108,
   "id": "96d021cd-484a-4909-b45c-0d7810ceeb65",
   "metadata": {},
   "outputs": [
    {
     "data": {
      "text/plain": [
       "'green'"
      ]
     },
     "execution_count": 108,
     "metadata": {},
     "output_type": "execute_result"
    }
   ],
   "source": [
    "start, mid, end = t\n",
    "mid"
   ]
  },
  {
   "cell_type": "code",
   "execution_count": 109,
   "id": "27b2a5fb-023c-4806-850a-ae30deb16131",
   "metadata": {},
   "outputs": [],
   "source": [
    "end, start, mid = start, mid, end"
   ]
  },
  {
   "cell_type": "code",
   "execution_count": 110,
   "id": "4658e62c-b6f1-41c9-bd35-151d14654f47",
   "metadata": {},
   "outputs": [
    {
     "data": {
      "text/plain": [
       "'blue'"
      ]
     },
     "execution_count": 110,
     "metadata": {},
     "output_type": "execute_result"
    }
   ],
   "source": [
    "mid"
   ]
  },
  {
   "cell_type": "code",
   "execution_count": 112,
   "id": "6997c37d-af67-4104-b221-69255fde3ea0",
   "metadata": {},
   "outputs": [],
   "source": [
    "lt = list(t)"
   ]
  },
  {
   "cell_type": "code",
   "execution_count": 113,
   "id": "11f67eeb-31ac-4ce8-b3b3-468a89031c78",
   "metadata": {},
   "outputs": [
    {
     "data": {
      "text/plain": [
       "['Fred', 'Irma', 'Janet']"
      ]
     },
     "execution_count": 113,
     "metadata": {},
     "output_type": "execute_result"
    }
   ],
   "source": [
    "names"
   ]
  },
  {
   "cell_type": "code",
   "execution_count": 114,
   "id": "87101465-e280-4523-9efc-a8e8d975c7ef",
   "metadata": {},
   "outputs": [
    {
     "data": {
      "text/plain": [
       "('Fred', 'Irma', 'Janet')"
      ]
     },
     "execution_count": 114,
     "metadata": {},
     "output_type": "execute_result"
    }
   ],
   "source": [
    "tuple(names)"
   ]
  },
  {
   "cell_type": "code",
   "execution_count": 115,
   "id": "5a51460c-74b0-404d-bdab-a02c4bcadb22",
   "metadata": {},
   "outputs": [
    {
     "data": {
      "text/plain": [
       "(('Fred', 'Irma', 'Janet'), ['Fred', 'Irma', 'Janet'])"
      ]
     },
     "execution_count": 115,
     "metadata": {},
     "output_type": "execute_result"
    }
   ],
   "source": [
    "t = tuple(names)\n",
    "t, names"
   ]
  },
  {
   "cell_type": "code",
   "execution_count": 116,
   "id": "b2b800ae-8c33-43b9-969c-dbb6b8882ef8",
   "metadata": {},
   "outputs": [
    {
     "ename": "TypeError",
     "evalue": "'tuple' object doesn't support item deletion",
     "output_type": "error",
     "traceback": [
      "\u001b[0;31m---------------------------------------------------------------------------\u001b[0m",
      "\u001b[0;31mTypeError\u001b[0m                                 Traceback (most recent call last)",
      "Cell \u001b[0;32mIn [116], line 2\u001b[0m\n\u001b[1;32m      1\u001b[0m \u001b[38;5;28;01mdel\u001b[39;00m names[\u001b[38;5;241m0\u001b[39m]\n\u001b[0;32m----> 2\u001b[0m \u001b[38;5;28;01mdel\u001b[39;00m t[\u001b[38;5;241m0\u001b[39m]\n",
      "\u001b[0;31mTypeError\u001b[0m: 'tuple' object doesn't support item deletion"
     ]
    }
   ],
   "source": [
    "del names[0]\n",
    "del t[0]"
   ]
  },
  {
   "cell_type": "code",
   "execution_count": 117,
   "id": "e6e43961-305f-4f34-9f51-2bec2bf4a23a",
   "metadata": {},
   "outputs": [
    {
     "data": {
      "text/plain": [
       "(['Irma', 'Janet'], ('Fred', 'Irma', 'Janet'))"
      ]
     },
     "execution_count": 117,
     "metadata": {},
     "output_type": "execute_result"
    }
   ],
   "source": [
    "names, t"
   ]
  },
  {
   "cell_type": "code",
   "execution_count": null,
   "id": "fac0a459-4256-4a61-87a9-09dc496a0584",
   "metadata": {},
   "outputs": [],
   "source": []
  },
  {
   "cell_type": "code",
   "execution_count": null,
   "id": "86309b02-1cf3-4f6c-86f1-20c888b952f8",
   "metadata": {},
   "outputs": [],
   "source": []
  }
 ],
 "metadata": {
  "kernelspec": {
   "display_name": "Python 3 (ipykernel)",
   "language": "python",
   "name": "python3"
  },
  "language_info": {
   "codemirror_mode": {
    "name": "ipython",
    "version": 3
   },
   "file_extension": ".py",
   "mimetype": "text/x-python",
   "name": "python",
   "nbconvert_exporter": "python",
   "pygments_lexer": "ipython3",
   "version": "3.9.13"
  }
 },
 "nbformat": 4,
 "nbformat_minor": 5
}
