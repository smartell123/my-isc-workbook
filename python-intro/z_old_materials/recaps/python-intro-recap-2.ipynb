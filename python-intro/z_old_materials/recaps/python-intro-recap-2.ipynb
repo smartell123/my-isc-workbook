{
 "cells": [
  {
   "cell_type": "markdown",
   "id": "2aa3710f-66ac-445f-ba3a-da885c0abd53",
   "metadata": {},
   "source": [
    "# File reading and writing"
   ]
  },
  {
   "cell_type": "code",
   "execution_count": 1,
   "id": "21a5c470-6d1a-4637-8fee-346f9aac1a37",
   "metadata": {},
   "outputs": [
    {
     "name": "stdout",
     "output_type": "stream",
     "text": [
      "Example data/code for course\n",
      "============================\n",
      "\n",
      "Python intro:\n",
      " * Input and Output: example_data/weather.csv\n",
      " * Scripts and Libraries: example_code/dance.py\n",
      " * OOP: example_code/band.py\n",
      "  \n",
      " Changed: OOP, ceda-oop, flow, some of them.\n",
      " \n",
      "\n"
     ]
    }
   ],
   "source": [
    "with open(\"example_data_and_code_used.txt\", \"r\") as reader:\n",
    "    whole_file = reader.read()\n",
    "    print(whole_file)"
   ]
  },
  {
   "cell_type": "code",
   "execution_count": 3,
   "id": "b6b5d354-03aa-4b98-aebf-de7dbcfd1dce",
   "metadata": {},
   "outputs": [
    {
     "name": "stdout",
     "output_type": "stream",
     "text": [
      "64\n",
      "64\n",
      "64\n",
      "54\n",
      "0\n"
     ]
    }
   ],
   "source": [
    "with open(\"example_data_and_code_used.txt\", \"r\") as reader:\n",
    "    not_the_whole_file = reader.read(64)\n",
    "    while not_the_whole_file != '':\n",
    "        print(len(not_the_whole_file))\n",
    "        not_the_whole_file = reader.read(64)\n",
    "    print(len(not_the_whole_file))\n",
    "    "
   ]
  },
  {
   "cell_type": "code",
   "execution_count": 4,
   "id": "20977047-faae-4d9f-bb01-b8c33a5ca726",
   "metadata": {},
   "outputs": [
    {
     "name": "stdout",
     "output_type": "stream",
     "text": [
      "29\n",
      "29\n",
      "1\n",
      "14\n",
      "46\n",
      "48\n",
      "29\n",
      "3\n",
      "45\n",
      "2\n",
      "0\n"
     ]
    }
   ],
   "source": [
    "with open(\"example_data_and_code_used.txt\", \"r\") as reader:\n",
    "    line = reader.readline()\n",
    "    while line != '':\n",
    "        print(len(line))\n",
    "        line = reader.readline()\n",
    "\n",
    "    print(len(line))"
   ]
  },
  {
   "cell_type": "code",
   "execution_count": 6,
   "id": "088576b8-4fe0-4ce6-b4dd-199a379b14ae",
   "metadata": {},
   "outputs": [
    {
     "name": "stdout",
     "output_type": "stream",
     "text": [
      "Example data/code for course\n",
      "\n",
      "============================\n",
      "\n",
      "\n",
      "\n",
      "Python intro:\n",
      "\n",
      " * Input and Output: example_data/weather.csv\n",
      "\n",
      " * Scripts and Libraries: example_code/dance.py\n",
      "\n",
      " * OOP: example_code/band.py\n",
      "\n",
      "  \n",
      "\n",
      " Changed: OOP, ceda-oop, flow, some of them.\n",
      "\n",
      " \n",
      "\n"
     ]
    }
   ],
   "source": [
    "with open(\"example_data_and_code_used.txt\", \"r\") as reader:\n",
    "    # lines = reader.readlines()\n",
    "    for line in reader:\n",
    "        print(line)\n"
   ]
  },
  {
   "cell_type": "markdown",
   "id": "cc8bc0a0-2c78-4385-9e80-fdbe36c699fa",
   "metadata": {},
   "source": [
    "# Strings"
   ]
  },
  {
   "cell_type": "code",
   "execution_count": 7,
   "id": "90ed0d4a-92c7-4e37-ad85-89297d877aef",
   "metadata": {},
   "outputs": [],
   "source": [
    "my_string = 'this is a string'"
   ]
  },
  {
   "cell_type": "code",
   "execution_count": 9,
   "id": "df9342ac-8f6c-4553-b8ea-8a1710584d40",
   "metadata": {},
   "outputs": [
    {
     "data": {
      "text/plain": [
       "'g'"
      ]
     },
     "execution_count": 9,
     "metadata": {},
     "output_type": "execute_result"
    }
   ],
   "source": [
    "my_string[-1]"
   ]
  },
  {
   "cell_type": "code",
   "execution_count": 11,
   "id": "eca24c02-8e5a-437d-a1ca-0cd7bd06118b",
   "metadata": {},
   "outputs": [
    {
     "name": "stdout",
     "output_type": "stream",
     "text": [
      "<class 'str'> 1\n",
      "<class 'str'> 1\n",
      "<class 'str'> 1\n",
      "<class 'str'> 1\n",
      "<class 'str'> 1\n",
      "<class 'str'> 1\n",
      "<class 'str'> 1\n",
      "<class 'str'> 1\n",
      "<class 'str'> 1\n",
      "<class 'str'> 1\n",
      "<class 'str'> 1\n",
      "<class 'str'> 1\n",
      "<class 'str'> 1\n",
      "<class 'str'> 1\n",
      "<class 'str'> 1\n",
      "<class 'str'> 1\n"
     ]
    }
   ],
   "source": [
    "for character in my_string:\n",
    "    print(type(character), len(character))\n",
    "    "
   ]
  },
  {
   "cell_type": "code",
   "execution_count": 12,
   "id": "1c36e3a2-5e9d-452a-92d5-5976759e1c9e",
   "metadata": {},
   "outputs": [],
   "source": [
    "my_other_string = 'this is another string'"
   ]
  },
  {
   "cell_type": "code",
   "execution_count": 13,
   "id": "1bc1cc35-3daa-4545-bdec-4cd7d77c5a8f",
   "metadata": {},
   "outputs": [
    {
     "name": "stdout",
     "output_type": "stream",
     "text": [
      "this is a string this is another string\n"
     ]
    }
   ],
   "source": [
    "print(my_string + ' ' + my_other_string)"
   ]
  },
  {
   "cell_type": "code",
   "execution_count": 15,
   "id": "45fd044d-cfab-4ed1-bb48-db4cd0a5aaaf",
   "metadata": {},
   "outputs": [
    {
     "data": {
      "text/plain": [
       "True"
      ]
     },
     "execution_count": 15,
     "metadata": {},
     "output_type": "execute_result"
    }
   ],
   "source": [
    "a = 'ab'\n",
    "b = 'abc'\n",
    "a < b"
   ]
  },
  {
   "cell_type": "code",
   "execution_count": 16,
   "id": "3d8c7474-4b8a-4113-9f11-51f46dc90255",
   "metadata": {},
   "outputs": [
    {
     "name": "stdout",
     "output_type": "stream",
     "text": [
      "ab\n"
     ]
    }
   ],
   "source": [
    "c = a\n",
    "print(c)"
   ]
  },
  {
   "cell_type": "code",
   "execution_count": 17,
   "id": "d6520291-bd47-41aa-aad1-fe5cb0b549a8",
   "metadata": {},
   "outputs": [],
   "source": [
    "c += 'aspojfpoajsg'"
   ]
  },
  {
   "cell_type": "code",
   "execution_count": 18,
   "id": "1089e110-b109-4b1e-b00e-a270d6f69164",
   "metadata": {},
   "outputs": [
    {
     "name": "stdout",
     "output_type": "stream",
     "text": [
      "abaspojfpoajsg\n"
     ]
    }
   ],
   "source": [
    "print(c)\n"
   ]
  },
  {
   "cell_type": "code",
   "execution_count": 19,
   "id": "6b1fd5b6-0728-4c0f-b4db-a84fabcc6a05",
   "metadata": {},
   "outputs": [
    {
     "name": "stdout",
     "output_type": "stream",
     "text": [
      "ab\n"
     ]
    }
   ],
   "source": [
    "print(a)"
   ]
  },
  {
   "cell_type": "code",
   "execution_count": 20,
   "id": "c738bff1-57a8-4d5f-b98f-a4b3481dc476",
   "metadata": {},
   "outputs": [],
   "source": [
    "pi = 3.14"
   ]
  },
  {
   "cell_type": "code",
   "execution_count": 23,
   "id": "198bb0a8-08e1-4faa-adaf-6bd570aa77c1",
   "metadata": {},
   "outputs": [
    {
     "name": "stdout",
     "output_type": "stream",
     "text": [
      "This is pi 3.14\n"
     ]
    }
   ],
   "source": [
    "print('This is pi ' + str(pi))"
   ]
  },
  {
   "cell_type": "code",
   "execution_count": 25,
   "id": "b83a146a-b7e7-4d95-9a57-2574d86ad45b",
   "metadata": {},
   "outputs": [
    {
     "name": "stdout",
     "output_type": "stream",
     "text": [
      "This is pi 3.1\n"
     ]
    }
   ],
   "source": [
    "print(f\"This is pi {pi:.1f}\")"
   ]
  },
  {
   "cell_type": "code",
   "execution_count": 26,
   "id": "278031c4-3cc7-447a-8492-ae81e7d533f9",
   "metadata": {},
   "outputs": [],
   "source": [
    "number = 0.6666667"
   ]
  },
  {
   "cell_type": "code",
   "execution_count": 31,
   "id": "571b8ea2-1915-48fa-809f-d328d19fd92b",
   "metadata": {},
   "outputs": [
    {
     "name": "stdout",
     "output_type": "stream",
     "text": [
      "this is my number 000066.7%\n"
     ]
    }
   ],
   "source": [
    "print(f\"this is my number {number:09.1%}\")"
   ]
  },
  {
   "cell_type": "code",
   "execution_count": 33,
   "id": "d0fb6ffe-0f8f-4cd3-bf68-1dd0a583da32",
   "metadata": {},
   "outputs": [
    {
     "name": "stdout",
     "output_type": "stream",
     "text": [
      "this is my number 0.6666667\n"
     ]
    }
   ],
   "source": [
    "print(\"this is my number {phil}\".format(phil=number))"
   ]
  },
  {
   "cell_type": "code",
   "execution_count": 40,
   "id": "464ddef8-4d48-4d90-a958-ab0c7f7b342d",
   "metadata": {},
   "outputs": [
    {
     "data": {
      "text/plain": [
       "2"
      ]
     },
     "execution_count": 40,
     "metadata": {},
     "output_type": "execute_result"
    }
   ],
   "source": [
    "my_string.count('t')"
   ]
  },
  {
   "cell_type": "code",
   "execution_count": 41,
   "id": "c60385b0-2071-4240-b88f-bec6451a5706",
   "metadata": {},
   "outputs": [
    {
     "data": {
      "text/plain": [
       "'this is a string'"
      ]
     },
     "execution_count": 41,
     "metadata": {},
     "output_type": "execute_result"
    }
   ],
   "source": [
    "my_string"
   ]
  },
  {
   "cell_type": "code",
   "execution_count": 42,
   "id": "7c996096-7314-412a-9197-fdb5c903060f",
   "metadata": {},
   "outputs": [
    {
     "data": {
      "text/plain": [
       "\"thisn't isn't a string\""
      ]
     },
     "execution_count": 42,
     "metadata": {},
     "output_type": "execute_result"
    }
   ],
   "source": [
    "my_string.replace('is','isn\\'t') "
   ]
  },
  {
   "cell_type": "code",
   "execution_count": 43,
   "id": "9245a6dc-befb-45e9-9fc1-8a2030b60eec",
   "metadata": {},
   "outputs": [
    {
     "data": {
      "text/plain": [
       "['this', 'is', 'a', 'string']"
      ]
     },
     "execution_count": 43,
     "metadata": {},
     "output_type": "execute_result"
    }
   ],
   "source": [
    "my_string.split()"
   ]
  },
  {
   "cell_type": "markdown",
   "id": "c3241fbc-c1ec-49eb-90db-3dd404c17d34",
   "metadata": {},
   "source": [
    "# Aliasing"
   ]
  },
  {
   "cell_type": "code",
   "execution_count": 44,
   "id": "dead4b68-f7cb-45f8-969d-b33a25a234ed",
   "metadata": {},
   "outputs": [],
   "source": [
    "my_list = [[1, 2, 3, 4], [1, 2, 5, 6]]"
   ]
  },
  {
   "cell_type": "code",
   "execution_count": 45,
   "id": "fbefc5e9-024c-4d8d-9264-6bb2b813432e",
   "metadata": {},
   "outputs": [
    {
     "data": {
      "text/plain": [
       "[1, 2, 3, 4]"
      ]
     },
     "execution_count": 45,
     "metadata": {},
     "output_type": "execute_result"
    }
   ],
   "source": [
    "b = my_list[0]\n",
    "b"
   ]
  },
  {
   "cell_type": "code",
   "execution_count": 46,
   "id": "b73a9fd8-d84a-4f57-a075-2dc72b2fde02",
   "metadata": {},
   "outputs": [],
   "source": [
    "b[1] = 'oihaSDG;OI'"
   ]
  },
  {
   "cell_type": "code",
   "execution_count": 47,
   "id": "b5dc2bb9-67c8-4621-a185-c69344a5108b",
   "metadata": {},
   "outputs": [
    {
     "data": {
      "text/plain": [
       "[1, 'oihaSDG;OI', 3, 4]"
      ]
     },
     "execution_count": 47,
     "metadata": {},
     "output_type": "execute_result"
    }
   ],
   "source": [
    "b"
   ]
  },
  {
   "cell_type": "code",
   "execution_count": 48,
   "id": "656f53f0-c112-43c7-a1f5-a9ebdafdde08",
   "metadata": {},
   "outputs": [
    {
     "data": {
      "text/plain": [
       "[[1, 'oihaSDG;OI', 3, 4], [1, 2, 5, 6]]"
      ]
     },
     "execution_count": 48,
     "metadata": {},
     "output_type": "execute_result"
    }
   ],
   "source": [
    "my_list"
   ]
  },
  {
   "cell_type": "code",
   "execution_count": 50,
   "id": "4c578a8c-e24c-4b34-acbd-b35ccfb62719",
   "metadata": {},
   "outputs": [
    {
     "data": {
      "text/plain": [
       "[[2, 'oihaSDG;OI', 3, 4], [2, 2, 5, 6]]"
      ]
     },
     "execution_count": 50,
     "metadata": {},
     "output_type": "execute_result"
    }
   ],
   "source": [
    "for bit in my_list:\n",
    "    bit[0] += 1\n",
    "my_list"
   ]
  },
  {
   "cell_type": "code",
   "execution_count": 51,
   "id": "18e63941-6ce1-4b20-914f-5d560ec1473c",
   "metadata": {},
   "outputs": [],
   "source": [
    "from copy import deepcopy"
   ]
  },
  {
   "cell_type": "code",
   "execution_count": 52,
   "id": "2e73bc18-19ba-4b5d-983e-7343815f801f",
   "metadata": {},
   "outputs": [
    {
     "name": "stdout",
     "output_type": "stream",
     "text": [
      "3\n",
      "3\n"
     ]
    },
    {
     "data": {
      "text/plain": [
       "[[2, 'oihaSDG;OI', 3, 4], [2, 2, 5, 6]]"
      ]
     },
     "execution_count": 52,
     "metadata": {},
     "output_type": "execute_result"
    }
   ],
   "source": [
    "for bit in my_list:\n",
    "    a = deepcopy(bit[0])\n",
    "    a += 1\n",
    "    print(a)\n",
    "    a = 'asadgojpo'\n",
    "my_list"
   ]
  },
  {
   "cell_type": "markdown",
   "id": "d956bf15-d3bd-473a-b6cc-29d7303291be",
   "metadata": {},
   "source": [
    "# Functions"
   ]
  },
  {
   "cell_type": "code",
   "execution_count": 77,
   "id": "b8091166-e7a2-48de-aaad-d4f0e53e65df",
   "metadata": {},
   "outputs": [],
   "source": [
    "def my_function(a=2):\n",
    "    a += 1\n",
    "    return a\n",
    "    "
   ]
  },
  {
   "cell_type": "code",
   "execution_count": 69,
   "id": "5028900a-fb22-4a36-b6db-c0d4a22e0425",
   "metadata": {},
   "outputs": [
    {
     "name": "stdout",
     "output_type": "stream",
     "text": [
      "None\n"
     ]
    }
   ],
   "source": [
    "new_variable = my_function(6)\n",
    "print(new_variable)"
   ]
  },
  {
   "cell_type": "code",
   "execution_count": 74,
   "id": "83803a54-af1b-4ee0-8375-bc3098406de8",
   "metadata": {},
   "outputs": [
    {
     "name": "stdout",
     "output_type": "stream",
     "text": [
      "None\n"
     ]
    }
   ],
   "source": [
    "print(my_list[0][2:].sort())"
   ]
  },
  {
   "cell_type": "code",
   "execution_count": 76,
   "id": "6e2582f4-c030-4d05-8b23-23b3d6b66d52",
   "metadata": {},
   "outputs": [
    {
     "data": {
      "text/plain": [
       "[2, 2, 5, 6]"
      ]
     },
     "execution_count": 76,
     "metadata": {},
     "output_type": "execute_result"
    }
   ],
   "source": [
    "b = my_list[1]\n",
    "b"
   ]
  },
  {
   "cell_type": "code",
   "execution_count": 78,
   "id": "2eb38090-fb89-4fb8-bbdc-68054d3a8467",
   "metadata": {},
   "outputs": [
    {
     "data": {
      "text/plain": [
       "[3, 3, 6, 7]"
      ]
     },
     "execution_count": 78,
     "metadata": {},
     "output_type": "execute_result"
    }
   ],
   "source": [
    "c = [my_function(value) for value in b]\n",
    "c"
   ]
  },
  {
   "cell_type": "markdown",
   "id": "67a8c0ef-5ac0-4a54-9c0f-153d1385d8ff",
   "metadata": {},
   "source": [
    "# Libraries and Importing"
   ]
  },
  {
   "cell_type": "code",
   "execution_count": 79,
   "id": "9fed0bd6-2a77-48c7-823d-d38da27d10c9",
   "metadata": {},
   "outputs": [],
   "source": [
    "import sys"
   ]
  },
  {
   "cell_type": "code",
   "execution_count": 80,
   "id": "21365f9a-d78b-480a-87f6-87e6af9b4c69",
   "metadata": {},
   "outputs": [
    {
     "data": {
      "text/plain": [
       "['__breakpointhook__',\n",
       " '__displayhook__',\n",
       " '__doc__',\n",
       " '__excepthook__',\n",
       " '__interactivehook__',\n",
       " '__loader__',\n",
       " '__name__',\n",
       " '__package__',\n",
       " '__spec__',\n",
       " '__stderr__',\n",
       " '__stdin__',\n",
       " '__stdout__',\n",
       " '__unraisablehook__',\n",
       " '_base_executable',\n",
       " '_clear_type_cache',\n",
       " '_current_exceptions',\n",
       " '_current_frames',\n",
       " '_deactivate_opcache',\n",
       " '_debugmallocstats',\n",
       " '_framework',\n",
       " '_getframe',\n",
       " '_git',\n",
       " '_home',\n",
       " '_xoptions',\n",
       " 'abiflags',\n",
       " 'addaudithook',\n",
       " 'api_version',\n",
       " 'argv',\n",
       " 'audit',\n",
       " 'base_exec_prefix',\n",
       " 'base_prefix',\n",
       " 'breakpointhook',\n",
       " 'builtin_module_names',\n",
       " 'byteorder',\n",
       " 'call_tracing',\n",
       " 'copyright',\n",
       " 'displayhook',\n",
       " 'dont_write_bytecode',\n",
       " 'exc_info',\n",
       " 'excepthook',\n",
       " 'exec_prefix',\n",
       " 'executable',\n",
       " 'exit',\n",
       " 'flags',\n",
       " 'float_info',\n",
       " 'float_repr_style',\n",
       " 'get_asyncgen_hooks',\n",
       " 'get_coroutine_origin_tracking_depth',\n",
       " 'getallocatedblocks',\n",
       " 'getdefaultencoding',\n",
       " 'getdlopenflags',\n",
       " 'getfilesystemencodeerrors',\n",
       " 'getfilesystemencoding',\n",
       " 'getprofile',\n",
       " 'getrecursionlimit',\n",
       " 'getrefcount',\n",
       " 'getsizeof',\n",
       " 'getswitchinterval',\n",
       " 'gettrace',\n",
       " 'hash_info',\n",
       " 'hexversion',\n",
       " 'implementation',\n",
       " 'int_info',\n",
       " 'intern',\n",
       " 'is_finalizing',\n",
       " 'last_traceback',\n",
       " 'last_type',\n",
       " 'last_value',\n",
       " 'maxsize',\n",
       " 'maxunicode',\n",
       " 'meta_path',\n",
       " 'modules',\n",
       " 'orig_argv',\n",
       " 'path',\n",
       " 'path_hooks',\n",
       " 'path_importer_cache',\n",
       " 'platform',\n",
       " 'platlibdir',\n",
       " 'prefix',\n",
       " 'ps1',\n",
       " 'ps2',\n",
       " 'ps3',\n",
       " 'pycache_prefix',\n",
       " 'set_asyncgen_hooks',\n",
       " 'set_coroutine_origin_tracking_depth',\n",
       " 'setdlopenflags',\n",
       " 'setprofile',\n",
       " 'setrecursionlimit',\n",
       " 'setswitchinterval',\n",
       " 'settrace',\n",
       " 'stderr',\n",
       " 'stdin',\n",
       " 'stdlib_module_names',\n",
       " 'stdout',\n",
       " 'thread_info',\n",
       " 'unraisablehook',\n",
       " 'version',\n",
       " 'version_info',\n",
       " 'warnoptions']"
      ]
     },
     "execution_count": 80,
     "metadata": {},
     "output_type": "execute_result"
    }
   ],
   "source": [
    "dir(sys)"
   ]
  },
  {
   "cell_type": "code",
   "execution_count": 81,
   "id": "3e563557-6c99-495f-b9cb-fad09dd08032",
   "metadata": {},
   "outputs": [
    {
     "data": {
      "text/plain": [
       "['/opt/jaspy/lib/python3.10/site-packages/ipykernel_launcher.py',\n",
       " '-f',\n",
       " '/home/users/jleland/.local/share/jupyter/runtime/kernel-42548c74-45d7-4dc7-b64c-e55bf33de690.json']"
      ]
     },
     "execution_count": 81,
     "metadata": {},
     "output_type": "execute_result"
    }
   ],
   "source": [
    "sys.argv"
   ]
  },
  {
   "cell_type": "code",
   "execution_count": 82,
   "id": "2868dd44-fe35-4a1e-8b36-559cb433e711",
   "metadata": {},
   "outputs": [],
   "source": [
    "import glob "
   ]
  },
  {
   "cell_type": "code",
   "execution_count": 84,
   "id": "6bd37c78-6d4d-48cc-a43c-30535adfc89a",
   "metadata": {},
   "outputs": [
    {
     "data": {
      "text/plain": [
       "'example_data_and_code_used.txt'"
      ]
     },
     "execution_count": 84,
     "metadata": {},
     "output_type": "execute_result"
    }
   ],
   "source": [
    "glob.glob('*')[4]"
   ]
  },
  {
   "cell_type": "code",
   "execution_count": 85,
   "id": "71263d81-816d-4118-9a15-7f2faa4568b8",
   "metadata": {},
   "outputs": [],
   "source": [
    "import numpy as np"
   ]
  },
  {
   "cell_type": "code",
   "execution_count": 86,
   "id": "b460bf45-345f-4acc-920d-d2046306411c",
   "metadata": {},
   "outputs": [
    {
     "data": {
      "text/plain": [
       "1.4142135623730951"
      ]
     },
     "execution_count": 86,
     "metadata": {},
     "output_type": "execute_result"
    }
   ],
   "source": [
    "np.sqrt(2)"
   ]
  },
  {
   "cell_type": "code",
   "execution_count": 87,
   "id": "77706066-8c0f-4fbb-8a8f-4eb926fb9fc8",
   "metadata": {},
   "outputs": [],
   "source": [
    "from datetime import datetime "
   ]
  },
  {
   "cell_type": "code",
   "execution_count": 88,
   "id": "82fa0ba7-33f5-44cc-8c2c-f55b91414523",
   "metadata": {},
   "outputs": [
    {
     "name": "stdout",
     "output_type": "stream",
     "text": [
      "Help on class datetime in module datetime:\n",
      "\n",
      "class datetime(date)\n",
      " |  datetime(year, month, day[, hour[, minute[, second[, microsecond[,tzinfo]]]]])\n",
      " |  \n",
      " |  The year, month and day arguments are required. tzinfo may be None, or an\n",
      " |  instance of a tzinfo subclass. The remaining arguments may be ints.\n",
      " |  \n",
      " |  Method resolution order:\n",
      " |      datetime\n",
      " |      date\n",
      " |      builtins.object\n",
      " |  \n",
      " |  Methods defined here:\n",
      " |  \n",
      " |  __add__(self, value, /)\n",
      " |      Return self+value.\n",
      " |  \n",
      " |  __eq__(self, value, /)\n",
      " |      Return self==value.\n",
      " |  \n",
      " |  __ge__(self, value, /)\n",
      " |      Return self>=value.\n",
      " |  \n",
      " |  __getattribute__(self, name, /)\n",
      " |      Return getattr(self, name).\n",
      " |  \n",
      " |  __gt__(self, value, /)\n",
      " |      Return self>value.\n",
      " |  \n",
      " |  __hash__(self, /)\n",
      " |      Return hash(self).\n",
      " |  \n",
      " |  __le__(self, value, /)\n",
      " |      Return self<=value.\n",
      " |  \n",
      " |  __lt__(self, value, /)\n",
      " |      Return self<value.\n",
      " |  \n",
      " |  __ne__(self, value, /)\n",
      " |      Return self!=value.\n",
      " |  \n",
      " |  __radd__(self, value, /)\n",
      " |      Return value+self.\n",
      " |  \n",
      " |  __reduce__(...)\n",
      " |      __reduce__() -> (cls, state)\n",
      " |  \n",
      " |  __reduce_ex__(...)\n",
      " |      __reduce_ex__(proto) -> (cls, state)\n",
      " |  \n",
      " |  __repr__(self, /)\n",
      " |      Return repr(self).\n",
      " |  \n",
      " |  __rsub__(self, value, /)\n",
      " |      Return value-self.\n",
      " |  \n",
      " |  __str__(self, /)\n",
      " |      Return str(self).\n",
      " |  \n",
      " |  __sub__(self, value, /)\n",
      " |      Return self-value.\n",
      " |  \n",
      " |  astimezone(...)\n",
      " |      tz -> convert to local time in new timezone tz\n",
      " |  \n",
      " |  ctime(...)\n",
      " |      Return ctime() style string.\n",
      " |  \n",
      " |  date(...)\n",
      " |      Return date object with same year, month and day.\n",
      " |  \n",
      " |  dst(...)\n",
      " |      Return self.tzinfo.dst(self).\n",
      " |  \n",
      " |  isoformat(...)\n",
      " |      [sep] -> string in ISO 8601 format, YYYY-MM-DDT[HH[:MM[:SS[.mmm[uuu]]]]][+HH:MM].\n",
      " |      sep is used to separate the year from the time, and defaults to 'T'.\n",
      " |      The optional argument timespec specifies the number of additional terms\n",
      " |      of the time to include. Valid options are 'auto', 'hours', 'minutes',\n",
      " |      'seconds', 'milliseconds' and 'microseconds'.\n",
      " |  \n",
      " |  replace(...)\n",
      " |      Return datetime with new specified fields.\n",
      " |  \n",
      " |  time(...)\n",
      " |      Return time object with same time but with tzinfo=None.\n",
      " |  \n",
      " |  timestamp(...)\n",
      " |      Return POSIX timestamp as float.\n",
      " |  \n",
      " |  timetuple(...)\n",
      " |      Return time tuple, compatible with time.localtime().\n",
      " |  \n",
      " |  timetz(...)\n",
      " |      Return time object with same time and tzinfo.\n",
      " |  \n",
      " |  tzname(...)\n",
      " |      Return self.tzinfo.tzname(self).\n",
      " |  \n",
      " |  utcoffset(...)\n",
      " |      Return self.tzinfo.utcoffset(self).\n",
      " |  \n",
      " |  utctimetuple(...)\n",
      " |      Return UTC time tuple, compatible with time.localtime().\n",
      " |  \n",
      " |  ----------------------------------------------------------------------\n",
      " |  Class methods defined here:\n",
      " |  \n",
      " |  combine(...) from builtins.type\n",
      " |      date, time -> datetime with same date and time fields\n",
      " |  \n",
      " |  fromisoformat(...) from builtins.type\n",
      " |      string -> datetime from datetime.isoformat() output\n",
      " |  \n",
      " |  fromtimestamp(...) from builtins.type\n",
      " |      timestamp[, tz] -> tz's local time from POSIX timestamp.\n",
      " |  \n",
      " |  now(tz=None) from builtins.type\n",
      " |      Returns new datetime object representing current time local to tz.\n",
      " |      \n",
      " |        tz\n",
      " |          Timezone object.\n",
      " |      \n",
      " |      If no tz is specified, uses local timezone.\n",
      " |  \n",
      " |  strptime(...) from builtins.type\n",
      " |      string, format -> new datetime parsed from a string (like time.strptime()).\n",
      " |  \n",
      " |  utcfromtimestamp(...) from builtins.type\n",
      " |      Construct a naive UTC datetime from a POSIX timestamp.\n",
      " |  \n",
      " |  utcnow(...) from builtins.type\n",
      " |      Return a new datetime representing UTC day and time.\n",
      " |  \n",
      " |  ----------------------------------------------------------------------\n",
      " |  Static methods defined here:\n",
      " |  \n",
      " |  __new__(*args, **kwargs) from builtins.type\n",
      " |      Create and return a new object.  See help(type) for accurate signature.\n",
      " |  \n",
      " |  ----------------------------------------------------------------------\n",
      " |  Data descriptors defined here:\n",
      " |  \n",
      " |  fold\n",
      " |  \n",
      " |  hour\n",
      " |  \n",
      " |  microsecond\n",
      " |  \n",
      " |  minute\n",
      " |  \n",
      " |  second\n",
      " |  \n",
      " |  tzinfo\n",
      " |  \n",
      " |  ----------------------------------------------------------------------\n",
      " |  Data and other attributes defined here:\n",
      " |  \n",
      " |  max = datetime.datetime(9999, 12, 31, 23, 59, 59, 999999)\n",
      " |  \n",
      " |  min = datetime.datetime(1, 1, 1, 0, 0)\n",
      " |  \n",
      " |  resolution = datetime.timedelta(microseconds=1)\n",
      " |  \n",
      " |  ----------------------------------------------------------------------\n",
      " |  Methods inherited from date:\n",
      " |  \n",
      " |  __format__(...)\n",
      " |      Formats self with strftime.\n",
      " |  \n",
      " |  isocalendar(...)\n",
      " |      Return a named tuple containing ISO year, week number, and weekday.\n",
      " |  \n",
      " |  isoweekday(...)\n",
      " |      Return the day of the week represented by the date.\n",
      " |      Monday == 1 ... Sunday == 7\n",
      " |  \n",
      " |  strftime(...)\n",
      " |      format -> strftime() style string.\n",
      " |  \n",
      " |  toordinal(...)\n",
      " |      Return proleptic Gregorian ordinal.  January 1 of year 1 is day 1.\n",
      " |  \n",
      " |  weekday(...)\n",
      " |      Return the day of the week represented by the date.\n",
      " |      Monday == 0 ... Sunday == 6\n",
      " |  \n",
      " |  ----------------------------------------------------------------------\n",
      " |  Class methods inherited from date:\n",
      " |  \n",
      " |  fromisocalendar(...) from builtins.type\n",
      " |      int, int, int -> Construct a date from the ISO year, week number and weekday.\n",
      " |      \n",
      " |      This is the inverse of the date.isocalendar() function\n",
      " |  \n",
      " |  fromordinal(...) from builtins.type\n",
      " |      int -> date corresponding to a proleptic Gregorian ordinal.\n",
      " |  \n",
      " |  today(...) from builtins.type\n",
      " |      Current date or datetime:  same as self.__class__.fromtimestamp(time.time()).\n",
      " |  \n",
      " |  ----------------------------------------------------------------------\n",
      " |  Data descriptors inherited from date:\n",
      " |  \n",
      " |  day\n",
      " |  \n",
      " |  month\n",
      " |  \n",
      " |  year\n",
      "\n"
     ]
    }
   ],
   "source": [
    "help(datetime)"
   ]
  },
  {
   "cell_type": "code",
   "execution_count": 96,
   "id": "b651cbb0-b706-49fc-a46a-bb55741439d3",
   "metadata": {},
   "outputs": [],
   "source": [
    "import my_module.my_thing as mt"
   ]
  },
  {
   "cell_type": "code",
   "execution_count": 93,
   "id": "ff01570f-7962-42ae-bc66-0c3d5669363d",
   "metadata": {},
   "outputs": [
    {
     "data": {
      "text/plain": [
       "['__builtins__',\n",
       " '__cached__',\n",
       " '__doc__',\n",
       " '__file__',\n",
       " '__loader__',\n",
       " '__name__',\n",
       " '__package__',\n",
       " '__spec__',\n",
       " 'my_function']"
      ]
     },
     "execution_count": 93,
     "metadata": {},
     "output_type": "execute_result"
    }
   ],
   "source": [
    "dir(my_module.my_thing)"
   ]
  },
  {
   "cell_type": "code",
   "execution_count": 97,
   "id": "c43b130a-49a2-4996-ab2d-9bcb3a6aef77",
   "metadata": {},
   "outputs": [
    {
     "name": "stdout",
     "output_type": "stream",
     "text": [
      "poihPSDOGH\n"
     ]
    }
   ],
   "source": [
    "mt.my_function('poihPSDOGH')"
   ]
  },
  {
   "cell_type": "code",
   "execution_count": null,
   "id": "823f1fc7-e534-4df2-8b31-945f7a7491dd",
   "metadata": {},
   "outputs": [],
   "source": []
  }
 ],
 "metadata": {
  "kernelspec": {
   "display_name": "Python 3 + Jaspy",
   "language": "python",
   "name": "jaspy"
  },
  "language_info": {
   "codemirror_mode": {
    "name": "ipython",
    "version": 3
   },
   "file_extension": ".py",
   "mimetype": "text/x-python",
   "name": "python",
   "nbconvert_exporter": "python",
   "pygments_lexer": "ipython3",
   "version": "3.10.5"
  }
 },
 "nbformat": 4,
 "nbformat_minor": 5
}
